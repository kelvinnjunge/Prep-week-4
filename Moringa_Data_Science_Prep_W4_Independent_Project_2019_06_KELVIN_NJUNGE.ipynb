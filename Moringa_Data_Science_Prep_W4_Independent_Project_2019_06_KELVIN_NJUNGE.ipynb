{
  "nbformat": 4,
  "nbformat_minor": 0,
  "metadata": {
    "colab": {
      "name": "Moringa_Data_Science_Prep_W4_Independent_Project_2019_06_KELVIN_NJUNGE",
      "provenance": [],
      "authorship_tag": "ABX9TyPs3TE8EN2J1q4CGIRIwyTE",
      "include_colab_link": true
    },
    "kernelspec": {
      "name": "python3",
      "display_name": "Python 3"
    },
    "language_info": {
      "name": "python"
    }
  },
  "cells": [
    {
      "cell_type": "markdown",
      "metadata": {
        "id": "view-in-github",
        "colab_type": "text"
      },
      "source": [
        "<a href=\"https://colab.research.google.com/github/kelvinnjunge/Prep-week-4/blob/main/Moringa_Data_Science_Prep_W4_Independent_Project_2019_06_KELVIN_NJUNGE.ipynb\" target=\"_parent\"><img src=\"https://colab.research.google.com/assets/colab-badge.svg\" alt=\"Open In Colab\"/></a>"
      ]
    },
    {
      "cell_type": "markdown",
      "metadata": {
        "id": "ToYmzEReRiMI"
      },
      "source": [
        "#      Electric Car-Sharing Data Analysis in April 2018 (9 days period)"
      ]
    },
    {
      "cell_type": "markdown",
      "metadata": {
        "id": "DJGZKJ9iRyD3"
      },
      "source": [
        "#Data Preview (Understanding)"
      ]
    },
    {
      "cell_type": "code",
      "metadata": {
        "id": "i-oomiojWvwH"
      },
      "source": [
        "#Importing the necessary libraries\n",
        "#pandas library\n",
        "import pandas as pd\n",
        "\n",
        "#numpy library\n",
        "import numpy as np"
      ],
      "execution_count": null,
      "outputs": []
    },
    {
      "cell_type": "code",
      "metadata": {
        "colab": {
          "base_uri": "https://localhost:8080/",
          "height": 748
        },
        "id": "-aWodzHLW5U9",
        "outputId": "00a0bb86-b210-4b7d-db83-dc7f3e0c020e"
      },
      "source": [
        "#Preview the csv file\n",
        "df = pd.read_csv('/content/Autolib_dataset (2).csv')\n",
        "df.head(10)"
      ],
      "execution_count": null,
      "outputs": [
        {
          "output_type": "execute_result",
          "data": {
            "text/html": [
              "<div>\n",
              "<style scoped>\n",
              "    .dataframe tbody tr th:only-of-type {\n",
              "        vertical-align: middle;\n",
              "    }\n",
              "\n",
              "    .dataframe tbody tr th {\n",
              "        vertical-align: top;\n",
              "    }\n",
              "\n",
              "    .dataframe thead th {\n",
              "        text-align: right;\n",
              "    }\n",
              "</style>\n",
              "<table border=\"1\" class=\"dataframe\">\n",
              "  <thead>\n",
              "    <tr style=\"text-align: right;\">\n",
              "      <th></th>\n",
              "      <th>Address</th>\n",
              "      <th>Cars</th>\n",
              "      <th>Bluecar counter</th>\n",
              "      <th>Utilib counter</th>\n",
              "      <th>Utilib 1.4 counter</th>\n",
              "      <th>Charge Slots</th>\n",
              "      <th>Charging Status</th>\n",
              "      <th>City</th>\n",
              "      <th>Displayed comment</th>\n",
              "      <th>ID</th>\n",
              "      <th>Kind</th>\n",
              "      <th>Geo point</th>\n",
              "      <th>Postal code</th>\n",
              "      <th>Public name</th>\n",
              "      <th>Rental status</th>\n",
              "      <th>Scheduled at</th>\n",
              "      <th>Slots</th>\n",
              "      <th>Station type</th>\n",
              "      <th>Status</th>\n",
              "      <th>Subscription status</th>\n",
              "      <th>year</th>\n",
              "      <th>month</th>\n",
              "      <th>day</th>\n",
              "      <th>hour</th>\n",
              "      <th>minute</th>\n",
              "    </tr>\n",
              "  </thead>\n",
              "  <tbody>\n",
              "    <tr>\n",
              "      <th>0</th>\n",
              "      <td>2 Avenue de Suffren</td>\n",
              "      <td>0</td>\n",
              "      <td>0</td>\n",
              "      <td>0</td>\n",
              "      <td>0</td>\n",
              "      <td>0</td>\n",
              "      <td>nonexistent</td>\n",
              "      <td>Paris</td>\n",
              "      <td>NaN</td>\n",
              "      <td>paris-suffren-2</td>\n",
              "      <td>STATION</td>\n",
              "      <td>48.857, 2.2917</td>\n",
              "      <td>75015</td>\n",
              "      <td>Paris/Suffren/2</td>\n",
              "      <td>operational</td>\n",
              "      <td>NaN</td>\n",
              "      <td>2</td>\n",
              "      <td>station</td>\n",
              "      <td>ok</td>\n",
              "      <td>nonexistent</td>\n",
              "      <td>2018</td>\n",
              "      <td>4</td>\n",
              "      <td>8</td>\n",
              "      <td>11</td>\n",
              "      <td>43</td>\n",
              "    </tr>\n",
              "    <tr>\n",
              "      <th>1</th>\n",
              "      <td>145 Rue Raymond Losserand</td>\n",
              "      <td>6</td>\n",
              "      <td>6</td>\n",
              "      <td>0</td>\n",
              "      <td>0</td>\n",
              "      <td>0</td>\n",
              "      <td>operational</td>\n",
              "      <td>Paris</td>\n",
              "      <td>NaN</td>\n",
              "      <td>paris-raymondlosserand-145</td>\n",
              "      <td>STATION</td>\n",
              "      <td>48.83126, 2.313088</td>\n",
              "      <td>75014</td>\n",
              "      <td>Paris/Raymond Losserand/145</td>\n",
              "      <td>operational</td>\n",
              "      <td>NaN</td>\n",
              "      <td>0</td>\n",
              "      <td>station</td>\n",
              "      <td>ok</td>\n",
              "      <td>nonexistent</td>\n",
              "      <td>2018</td>\n",
              "      <td>4</td>\n",
              "      <td>6</td>\n",
              "      <td>7</td>\n",
              "      <td>24</td>\n",
              "    </tr>\n",
              "    <tr>\n",
              "      <th>2</th>\n",
              "      <td>2 Avenue John Fitzgerald Kennedy</td>\n",
              "      <td>3</td>\n",
              "      <td>3</td>\n",
              "      <td>0</td>\n",
              "      <td>2</td>\n",
              "      <td>0</td>\n",
              "      <td>operational</td>\n",
              "      <td>Le Bourget</td>\n",
              "      <td>NaN</td>\n",
              "      <td>lebourget-johnfitzgeraldkennedy-2</td>\n",
              "      <td>STATION</td>\n",
              "      <td>48.938103, 2.4286035</td>\n",
              "      <td>93350</td>\n",
              "      <td>Le Bourget/John Fitzgerald Kennedy/2</td>\n",
              "      <td>operational</td>\n",
              "      <td>NaN</td>\n",
              "      <td>1</td>\n",
              "      <td>station</td>\n",
              "      <td>ok</td>\n",
              "      <td>nonexistent</td>\n",
              "      <td>2018</td>\n",
              "      <td>4</td>\n",
              "      <td>3</td>\n",
              "      <td>20</td>\n",
              "      <td>14</td>\n",
              "    </tr>\n",
              "    <tr>\n",
              "      <th>3</th>\n",
              "      <td>51 Rue EugÃ¨ne OudinÃ©</td>\n",
              "      <td>3</td>\n",
              "      <td>3</td>\n",
              "      <td>1</td>\n",
              "      <td>0</td>\n",
              "      <td>1</td>\n",
              "      <td>operational</td>\n",
              "      <td>Paris</td>\n",
              "      <td>NaN</td>\n",
              "      <td>paris-eugeneoudine-51</td>\n",
              "      <td>STATION</td>\n",
              "      <td>48.8250327, 2.3725162</td>\n",
              "      <td>75013</td>\n",
              "      <td>Paris/EugÃ¨ne OudinÃ©/51</td>\n",
              "      <td>operational</td>\n",
              "      <td>NaN</td>\n",
              "      <td>2</td>\n",
              "      <td>station</td>\n",
              "      <td>ok</td>\n",
              "      <td>nonexistent</td>\n",
              "      <td>2018</td>\n",
              "      <td>4</td>\n",
              "      <td>4</td>\n",
              "      <td>4</td>\n",
              "      <td>37</td>\n",
              "    </tr>\n",
              "    <tr>\n",
              "      <th>4</th>\n",
              "      <td>6 avenue de la Porte de Champerret</td>\n",
              "      <td>3</td>\n",
              "      <td>3</td>\n",
              "      <td>0</td>\n",
              "      <td>0</td>\n",
              "      <td>0</td>\n",
              "      <td>nonexistent</td>\n",
              "      <td>Paris</td>\n",
              "      <td>NaN</td>\n",
              "      <td>paris-portedechamperret-6</td>\n",
              "      <td>PARKING</td>\n",
              "      <td>48.8862632, 2.2874511</td>\n",
              "      <td>75017</td>\n",
              "      <td>Paris/Porte de Champerret/6</td>\n",
              "      <td>operational</td>\n",
              "      <td>NaN</td>\n",
              "      <td>3</td>\n",
              "      <td>station</td>\n",
              "      <td>ok</td>\n",
              "      <td>nonexistent</td>\n",
              "      <td>2018</td>\n",
              "      <td>4</td>\n",
              "      <td>8</td>\n",
              "      <td>17</td>\n",
              "      <td>23</td>\n",
              "    </tr>\n",
              "    <tr>\n",
              "      <th>5</th>\n",
              "      <td>8 Boulevard Voltaire</td>\n",
              "      <td>0</td>\n",
              "      <td>0</td>\n",
              "      <td>0</td>\n",
              "      <td>0</td>\n",
              "      <td>0</td>\n",
              "      <td>nonexistent</td>\n",
              "      <td>Paris</td>\n",
              "      <td>NaN</td>\n",
              "      <td>paris-voltaire-8</td>\n",
              "      <td>STATION</td>\n",
              "      <td>48.8657658, 2.3664376</td>\n",
              "      <td>75011</td>\n",
              "      <td>Paris/Voltaire/8</td>\n",
              "      <td>operational</td>\n",
              "      <td>NaN</td>\n",
              "      <td>4</td>\n",
              "      <td>station</td>\n",
              "      <td>ok</td>\n",
              "      <td>nonexistent</td>\n",
              "      <td>2018</td>\n",
              "      <td>4</td>\n",
              "      <td>6</td>\n",
              "      <td>7</td>\n",
              "      <td>2</td>\n",
              "    </tr>\n",
              "    <tr>\n",
              "      <th>6</th>\n",
              "      <td>37 rue Leblanc</td>\n",
              "      <td>0</td>\n",
              "      <td>0</td>\n",
              "      <td>0</td>\n",
              "      <td>0</td>\n",
              "      <td>0</td>\n",
              "      <td>nonexistent</td>\n",
              "      <td>Paris</td>\n",
              "      <td>Station en parking (niv -1), accÃ¨s 37 rue Leb...</td>\n",
              "      <td>paris-citroencevennes-parking</td>\n",
              "      <td>PARKING</td>\n",
              "      <td>48.83874, 2.27641</td>\n",
              "      <td>75015</td>\n",
              "      <td>Paris/CitroÃ«n CÃ©vennes/Parking</td>\n",
              "      <td>broken</td>\n",
              "      <td>NaN</td>\n",
              "      <td>0</td>\n",
              "      <td>station</td>\n",
              "      <td>closed</td>\n",
              "      <td>nonexistent</td>\n",
              "      <td>2018</td>\n",
              "      <td>4</td>\n",
              "      <td>8</td>\n",
              "      <td>18</td>\n",
              "      <td>20</td>\n",
              "    </tr>\n",
              "    <tr>\n",
              "      <th>7</th>\n",
              "      <td>17 Rue des Luaps ProlongÃ©e</td>\n",
              "      <td>3</td>\n",
              "      <td>3</td>\n",
              "      <td>1</td>\n",
              "      <td>0</td>\n",
              "      <td>0</td>\n",
              "      <td>nonexistent</td>\n",
              "      <td>Nanterre</td>\n",
              "      <td>NaN</td>\n",
              "      <td>nanterre-luaps-17</td>\n",
              "      <td>STATION</td>\n",
              "      <td>48.88069, 2.21063</td>\n",
              "      <td>92000</td>\n",
              "      <td>Nanterre/Luaps/17</td>\n",
              "      <td>operational</td>\n",
              "      <td>NaN</td>\n",
              "      <td>0</td>\n",
              "      <td>station</td>\n",
              "      <td>ok</td>\n",
              "      <td>nonexistent</td>\n",
              "      <td>2018</td>\n",
              "      <td>4</td>\n",
              "      <td>4</td>\n",
              "      <td>22</td>\n",
              "      <td>13</td>\n",
              "    </tr>\n",
              "    <tr>\n",
              "      <th>8</th>\n",
              "      <td>34 avenue Jean Moulin</td>\n",
              "      <td>1</td>\n",
              "      <td>1</td>\n",
              "      <td>0</td>\n",
              "      <td>0</td>\n",
              "      <td>0</td>\n",
              "      <td>nonexistent</td>\n",
              "      <td>Paris</td>\n",
              "      <td>NaN</td>\n",
              "      <td>paris-jeanmoulin-34</td>\n",
              "      <td>STATION</td>\n",
              "      <td>48.8266807, 2.3237355</td>\n",
              "      <td>75014</td>\n",
              "      <td>Paris/Jean Moulin/34</td>\n",
              "      <td>operational</td>\n",
              "      <td>NaN</td>\n",
              "      <td>4</td>\n",
              "      <td>station</td>\n",
              "      <td>ok</td>\n",
              "      <td>nonexistent</td>\n",
              "      <td>2018</td>\n",
              "      <td>4</td>\n",
              "      <td>2</td>\n",
              "      <td>22</td>\n",
              "      <td>58</td>\n",
              "    </tr>\n",
              "    <tr>\n",
              "      <th>9</th>\n",
              "      <td>41 boulevard de Rochechouart</td>\n",
              "      <td>6</td>\n",
              "      <td>6</td>\n",
              "      <td>0</td>\n",
              "      <td>0</td>\n",
              "      <td>0</td>\n",
              "      <td>nonexistent</td>\n",
              "      <td>Paris</td>\n",
              "      <td>NaN</td>\n",
              "      <td>paris-anvers-parking</td>\n",
              "      <td>PARKING</td>\n",
              "      <td>48.88267, 2.34405</td>\n",
              "      <td>75009</td>\n",
              "      <td>Paris/Anvers/Parking</td>\n",
              "      <td>operational</td>\n",
              "      <td>NaN</td>\n",
              "      <td>0</td>\n",
              "      <td>station</td>\n",
              "      <td>ok</td>\n",
              "      <td>nonexistent</td>\n",
              "      <td>2018</td>\n",
              "      <td>4</td>\n",
              "      <td>4</td>\n",
              "      <td>15</td>\n",
              "      <td>2</td>\n",
              "    </tr>\n",
              "  </tbody>\n",
              "</table>\n",
              "</div>"
            ],
            "text/plain": [
              "                              Address  Cars  Bluecar counter  ...  day  hour  minute\n",
              "0                 2 Avenue de Suffren     0                0  ...    8    11      43\n",
              "1           145 Rue Raymond Losserand     6                6  ...    6     7      24\n",
              "2    2 Avenue John Fitzgerald Kennedy     3                3  ...    3    20      14\n",
              "3              51 Rue EugÃ¨ne OudinÃ©     3                3  ...    4     4      37\n",
              "4  6 avenue de la Porte de Champerret     3                3  ...    8    17      23\n",
              "5                8 Boulevard Voltaire     0                0  ...    6     7       2\n",
              "6                      37 rue Leblanc     0                0  ...    8    18      20\n",
              "7         17 Rue des Luaps ProlongÃ©e     3                3  ...    4    22      13\n",
              "8               34 avenue Jean Moulin     1                1  ...    2    22      58\n",
              "9        41 boulevard de Rochechouart     6                6  ...    4    15       2\n",
              "\n",
              "[10 rows x 25 columns]"
            ]
          },
          "metadata": {
            "tags": []
          },
          "execution_count": 5
        }
      ]
    },
    {
      "cell_type": "markdown",
      "metadata": {
        "id": "zkpY7McqbN9p"
      },
      "source": [
        "## View our data info"
      ]
    },
    {
      "cell_type": "code",
      "metadata": {
        "id": "-onrqdyvbWzo"
      },
      "source": [
        "# Getting information from our dataset.\n",
        "df.info()"
      ],
      "execution_count": null,
      "outputs": []
    },
    {
      "cell_type": "markdown",
      "metadata": {
        "id": "8b3OwBs4LzlO"
      },
      "source": [
        "##Validity of the data\n"
      ]
    },
    {
      "cell_type": "code",
      "metadata": {
        "colab": {
          "base_uri": "https://localhost:8080/",
          "height": 325
        },
        "id": "IDE5e9Ncb2yc",
        "outputId": "b753a85b-3aa7-4f52-870a-97463ad6ae80"
      },
      "source": [
        "\n",
        "# Describing our data allows us to get a general overview of how the data is.\n",
        "df.describe()"
      ],
      "execution_count": null,
      "outputs": [
        {
          "output_type": "execute_result",
          "data": {
            "text/html": [
              "<div>\n",
              "<style scoped>\n",
              "    .dataframe tbody tr th:only-of-type {\n",
              "        vertical-align: middle;\n",
              "    }\n",
              "\n",
              "    .dataframe tbody tr th {\n",
              "        vertical-align: top;\n",
              "    }\n",
              "\n",
              "    .dataframe thead th {\n",
              "        text-align: right;\n",
              "    }\n",
              "</style>\n",
              "<table border=\"1\" class=\"dataframe\">\n",
              "  <thead>\n",
              "    <tr style=\"text-align: right;\">\n",
              "      <th></th>\n",
              "      <th>Cars</th>\n",
              "      <th>Bluecar counter</th>\n",
              "      <th>Utilib counter</th>\n",
              "      <th>Utilib 1.4 counter</th>\n",
              "      <th>Charge Slots</th>\n",
              "      <th>Postal code</th>\n",
              "      <th>Slots</th>\n",
              "      <th>year</th>\n",
              "      <th>month</th>\n",
              "      <th>day</th>\n",
              "      <th>hour</th>\n",
              "      <th>minute</th>\n",
              "    </tr>\n",
              "  </thead>\n",
              "  <tbody>\n",
              "    <tr>\n",
              "      <th>count</th>\n",
              "      <td>5000.000000</td>\n",
              "      <td>5000.000000</td>\n",
              "      <td>5000.000000</td>\n",
              "      <td>5000.000000</td>\n",
              "      <td>5000.000000</td>\n",
              "      <td>5000.000000</td>\n",
              "      <td>5000.000000</td>\n",
              "      <td>5000.0</td>\n",
              "      <td>5000.0</td>\n",
              "      <td>5000.000000</td>\n",
              "      <td>5000.000000</td>\n",
              "      <td>5000.000000</td>\n",
              "    </tr>\n",
              "    <tr>\n",
              "      <th>mean</th>\n",
              "      <td>2.333600</td>\n",
              "      <td>2.333600</td>\n",
              "      <td>0.059600</td>\n",
              "      <td>0.123000</td>\n",
              "      <td>0.253400</td>\n",
              "      <td>82634.878400</td>\n",
              "      <td>1.932400</td>\n",
              "      <td>2018.0</td>\n",
              "      <td>4.0</td>\n",
              "      <td>4.941600</td>\n",
              "      <td>11.509200</td>\n",
              "      <td>29.270000</td>\n",
              "    </tr>\n",
              "    <tr>\n",
              "      <th>std</th>\n",
              "      <td>2.035274</td>\n",
              "      <td>2.035274</td>\n",
              "      <td>0.246698</td>\n",
              "      <td>0.356506</td>\n",
              "      <td>0.546304</td>\n",
              "      <td>8835.865721</td>\n",
              "      <td>1.905402</td>\n",
              "      <td>0.0</td>\n",
              "      <td>0.0</td>\n",
              "      <td>2.597063</td>\n",
              "      <td>6.893549</td>\n",
              "      <td>17.231741</td>\n",
              "    </tr>\n",
              "    <tr>\n",
              "      <th>min</th>\n",
              "      <td>0.000000</td>\n",
              "      <td>0.000000</td>\n",
              "      <td>0.000000</td>\n",
              "      <td>0.000000</td>\n",
              "      <td>0.000000</td>\n",
              "      <td>75001.000000</td>\n",
              "      <td>0.000000</td>\n",
              "      <td>2018.0</td>\n",
              "      <td>4.0</td>\n",
              "      <td>1.000000</td>\n",
              "      <td>0.000000</td>\n",
              "      <td>0.000000</td>\n",
              "    </tr>\n",
              "    <tr>\n",
              "      <th>25%</th>\n",
              "      <td>0.000000</td>\n",
              "      <td>0.000000</td>\n",
              "      <td>0.000000</td>\n",
              "      <td>0.000000</td>\n",
              "      <td>0.000000</td>\n",
              "      <td>75012.000000</td>\n",
              "      <td>0.000000</td>\n",
              "      <td>2018.0</td>\n",
              "      <td>4.0</td>\n",
              "      <td>3.000000</td>\n",
              "      <td>6.000000</td>\n",
              "      <td>14.000000</td>\n",
              "    </tr>\n",
              "    <tr>\n",
              "      <th>50%</th>\n",
              "      <td>2.000000</td>\n",
              "      <td>2.000000</td>\n",
              "      <td>0.000000</td>\n",
              "      <td>0.000000</td>\n",
              "      <td>0.000000</td>\n",
              "      <td>75019.000000</td>\n",
              "      <td>1.000000</td>\n",
              "      <td>2018.0</td>\n",
              "      <td>4.0</td>\n",
              "      <td>5.000000</td>\n",
              "      <td>11.000000</td>\n",
              "      <td>29.000000</td>\n",
              "    </tr>\n",
              "    <tr>\n",
              "      <th>75%</th>\n",
              "      <td>4.000000</td>\n",
              "      <td>4.000000</td>\n",
              "      <td>0.000000</td>\n",
              "      <td>0.000000</td>\n",
              "      <td>0.000000</td>\n",
              "      <td>92320.000000</td>\n",
              "      <td>3.000000</td>\n",
              "      <td>2018.0</td>\n",
              "      <td>4.0</td>\n",
              "      <td>7.000000</td>\n",
              "      <td>18.000000</td>\n",
              "      <td>44.000000</td>\n",
              "    </tr>\n",
              "    <tr>\n",
              "      <th>max</th>\n",
              "      <td>7.000000</td>\n",
              "      <td>7.000000</td>\n",
              "      <td>2.000000</td>\n",
              "      <td>3.000000</td>\n",
              "      <td>2.000000</td>\n",
              "      <td>95880.000000</td>\n",
              "      <td>7.000000</td>\n",
              "      <td>2018.0</td>\n",
              "      <td>4.0</td>\n",
              "      <td>9.000000</td>\n",
              "      <td>23.000000</td>\n",
              "      <td>59.000000</td>\n",
              "    </tr>\n",
              "  </tbody>\n",
              "</table>\n",
              "</div>"
            ],
            "text/plain": [
              "              Cars  Bluecar counter  ...         hour       minute\n",
              "count  5000.000000      5000.000000  ...  5000.000000  5000.000000\n",
              "mean      2.333600         2.333600  ...    11.509200    29.270000\n",
              "std       2.035274         2.035274  ...     6.893549    17.231741\n",
              "min       0.000000         0.000000  ...     0.000000     0.000000\n",
              "25%       0.000000         0.000000  ...     6.000000    14.000000\n",
              "50%       2.000000         2.000000  ...    11.000000    29.000000\n",
              "75%       4.000000         4.000000  ...    18.000000    44.000000\n",
              "max       7.000000         7.000000  ...    23.000000    59.000000\n",
              "\n",
              "[8 rows x 12 columns]"
            ]
          },
          "metadata": {
            "tags": []
          },
          "execution_count": 6
        }
      ]
    },
    {
      "cell_type": "code",
      "metadata": {
        "colab": {
          "base_uri": "https://localhost:8080/",
          "height": 215
        },
        "id": "VL0VlnrTpn2i",
        "outputId": "76e739a7-69f3-4cd4-d81e-2780dac4a384"
      },
      "source": [
        "#dropping irrelevant data\n",
        "df.drop(['Cars','Displayed comment', 'Geo point', 'Scheduled at', 'Status', 'Subscription status'], axis=1, inplace=True)\n",
        "df.head(2)"
      ],
      "execution_count": null,
      "outputs": [
        {
          "output_type": "execute_result",
          "data": {
            "text/html": [
              "<div>\n",
              "<style scoped>\n",
              "    .dataframe tbody tr th:only-of-type {\n",
              "        vertical-align: middle;\n",
              "    }\n",
              "\n",
              "    .dataframe tbody tr th {\n",
              "        vertical-align: top;\n",
              "    }\n",
              "\n",
              "    .dataframe thead th {\n",
              "        text-align: right;\n",
              "    }\n",
              "</style>\n",
              "<table border=\"1\" class=\"dataframe\">\n",
              "  <thead>\n",
              "    <tr style=\"text-align: right;\">\n",
              "      <th></th>\n",
              "      <th>Address</th>\n",
              "      <th>Bluecar counter</th>\n",
              "      <th>Utilib counter</th>\n",
              "      <th>Utilib 1.4 counter</th>\n",
              "      <th>Charge Slots</th>\n",
              "      <th>Charging Status</th>\n",
              "      <th>City</th>\n",
              "      <th>ID</th>\n",
              "      <th>Kind</th>\n",
              "      <th>Postal code</th>\n",
              "      <th>Public name</th>\n",
              "      <th>Rental status</th>\n",
              "      <th>Slots</th>\n",
              "      <th>Station type</th>\n",
              "      <th>year</th>\n",
              "      <th>month</th>\n",
              "      <th>day</th>\n",
              "      <th>hour</th>\n",
              "      <th>minute</th>\n",
              "    </tr>\n",
              "  </thead>\n",
              "  <tbody>\n",
              "    <tr>\n",
              "      <th>0</th>\n",
              "      <td>2 Avenue de Suffren</td>\n",
              "      <td>0</td>\n",
              "      <td>0</td>\n",
              "      <td>0</td>\n",
              "      <td>0</td>\n",
              "      <td>nonexistent</td>\n",
              "      <td>Paris</td>\n",
              "      <td>paris-suffren-2</td>\n",
              "      <td>STATION</td>\n",
              "      <td>75015</td>\n",
              "      <td>Paris/Suffren/2</td>\n",
              "      <td>operational</td>\n",
              "      <td>2</td>\n",
              "      <td>station</td>\n",
              "      <td>2018</td>\n",
              "      <td>4</td>\n",
              "      <td>8</td>\n",
              "      <td>11</td>\n",
              "      <td>43</td>\n",
              "    </tr>\n",
              "    <tr>\n",
              "      <th>1</th>\n",
              "      <td>145 Rue Raymond Losserand</td>\n",
              "      <td>6</td>\n",
              "      <td>0</td>\n",
              "      <td>0</td>\n",
              "      <td>0</td>\n",
              "      <td>operational</td>\n",
              "      <td>Paris</td>\n",
              "      <td>paris-raymondlosserand-145</td>\n",
              "      <td>STATION</td>\n",
              "      <td>75014</td>\n",
              "      <td>Paris/Raymond Losserand/145</td>\n",
              "      <td>operational</td>\n",
              "      <td>0</td>\n",
              "      <td>station</td>\n",
              "      <td>2018</td>\n",
              "      <td>4</td>\n",
              "      <td>6</td>\n",
              "      <td>7</td>\n",
              "      <td>24</td>\n",
              "    </tr>\n",
              "  </tbody>\n",
              "</table>\n",
              "</div>"
            ],
            "text/plain": [
              "                     Address  Bluecar counter  ...  hour  minute\n",
              "0        2 Avenue de Suffren                0  ...    11      43\n",
              "1  145 Rue Raymond Losserand                6  ...     7      24\n",
              "\n",
              "[2 rows x 19 columns]"
            ]
          },
          "metadata": {
            "tags": []
          },
          "execution_count": 7
        }
      ]
    },
    {
      "cell_type": "markdown",
      "metadata": {
        "id": "fv1KvyOZtdCh"
      },
      "source": [
        "## Accuracy"
      ]
    },
    {
      "cell_type": "code",
      "metadata": {
        "colab": {
          "base_uri": "https://localhost:8080/"
        },
        "id": "LWmT4utxtlib",
        "outputId": "671fb361-18bf-47b5-f48b-a7eb895a90b2"
      },
      "source": [
        "# Procedure 1:\n",
        "# Data Cleaning Action: Checking for null values in our dataset.\n",
        "# Explanation: This is to allows us to determin the columns that have null values.\n",
        "# \n",
        "df_null = df.isnull().any()\n",
        "df_null"
      ],
      "execution_count": null,
      "outputs": [
        {
          "output_type": "execute_result",
          "data": {
            "text/plain": [
              "Address               False\n",
              "Bluecar counter       False\n",
              "Utilib counter        False\n",
              "Utilib 1.4 counter    False\n",
              "Charge Slots          False\n",
              "Charging Status       False\n",
              "City                  False\n",
              "ID                    False\n",
              "Kind                  False\n",
              "Postal code           False\n",
              "Public name           False\n",
              "Rental status         False\n",
              "Slots                 False\n",
              "Station type          False\n",
              "year                  False\n",
              "month                 False\n",
              "day                   False\n",
              "hour                  False\n",
              "minute                False\n",
              "dtype: bool"
            ]
          },
          "metadata": {
            "tags": []
          },
          "execution_count": 8
        }
      ]
    },
    {
      "cell_type": "markdown",
      "metadata": {
        "id": "FbPONYW-t_l1"
      },
      "source": [
        "## Completeness"
      ]
    },
    {
      "cell_type": "code",
      "metadata": {
        "colab": {
          "base_uri": "https://localhost:8080/"
        },
        "id": "mmorMcEduC5F",
        "outputId": "f9e20479-b9e6-4f0c-8518-8e8d51675883"
      },
      "source": [
        "# Procedure 1:\n",
        "# Data Cleaning Action: Check for duplicate values.\n",
        "# Explanation: This is to allow us determine data that is duplicated.\n",
        "#\n",
        "df_dup = df.duplicated().sum()\n",
        "df_dup"
      ],
      "execution_count": null,
      "outputs": [
        {
          "output_type": "execute_result",
          "data": {
            "text/plain": [
              "0"
            ]
          },
          "metadata": {
            "tags": []
          },
          "execution_count": 9
        }
      ]
    },
    {
      "cell_type": "markdown",
      "metadata": {
        "id": "s4cZki__wKu1"
      },
      "source": [
        "## Consistency"
      ]
    },
    {
      "cell_type": "code",
      "metadata": {
        "colab": {
          "base_uri": "https://localhost:8080/",
          "height": 443
        },
        "id": "vMqEUKu9wNwP",
        "outputId": "80863f57-f51f-418a-cc5f-a13e80639a07"
      },
      "source": [
        "# Procedure 1:\n",
        "# Data Cleaning Action: Dropping null values if they exist.\n",
        "# Explanation: This is to allow us determine data that is duplicated.\n",
        "#\n",
        "df_new = df.dropna(how=\"all\")\n",
        "df_new.head()"
      ],
      "execution_count": null,
      "outputs": [
        {
          "output_type": "execute_result",
          "data": {
            "text/html": [
              "<div>\n",
              "<style scoped>\n",
              "    .dataframe tbody tr th:only-of-type {\n",
              "        vertical-align: middle;\n",
              "    }\n",
              "\n",
              "    .dataframe tbody tr th {\n",
              "        vertical-align: top;\n",
              "    }\n",
              "\n",
              "    .dataframe thead th {\n",
              "        text-align: right;\n",
              "    }\n",
              "</style>\n",
              "<table border=\"1\" class=\"dataframe\">\n",
              "  <thead>\n",
              "    <tr style=\"text-align: right;\">\n",
              "      <th></th>\n",
              "      <th>Address</th>\n",
              "      <th>Bluecar counter</th>\n",
              "      <th>Utilib counter</th>\n",
              "      <th>Utilib 1.4 counter</th>\n",
              "      <th>Charge Slots</th>\n",
              "      <th>Charging Status</th>\n",
              "      <th>City</th>\n",
              "      <th>ID</th>\n",
              "      <th>Kind</th>\n",
              "      <th>Postal code</th>\n",
              "      <th>Public name</th>\n",
              "      <th>Rental status</th>\n",
              "      <th>Slots</th>\n",
              "      <th>Station type</th>\n",
              "      <th>year</th>\n",
              "      <th>month</th>\n",
              "      <th>day</th>\n",
              "      <th>hour</th>\n",
              "      <th>minute</th>\n",
              "    </tr>\n",
              "  </thead>\n",
              "  <tbody>\n",
              "    <tr>\n",
              "      <th>0</th>\n",
              "      <td>2 Avenue de Suffren</td>\n",
              "      <td>0</td>\n",
              "      <td>0</td>\n",
              "      <td>0</td>\n",
              "      <td>0</td>\n",
              "      <td>nonexistent</td>\n",
              "      <td>Paris</td>\n",
              "      <td>paris-suffren-2</td>\n",
              "      <td>STATION</td>\n",
              "      <td>75015</td>\n",
              "      <td>Paris/Suffren/2</td>\n",
              "      <td>operational</td>\n",
              "      <td>2</td>\n",
              "      <td>station</td>\n",
              "      <td>2018</td>\n",
              "      <td>4</td>\n",
              "      <td>8</td>\n",
              "      <td>11</td>\n",
              "      <td>43</td>\n",
              "    </tr>\n",
              "    <tr>\n",
              "      <th>1</th>\n",
              "      <td>145 Rue Raymond Losserand</td>\n",
              "      <td>6</td>\n",
              "      <td>0</td>\n",
              "      <td>0</td>\n",
              "      <td>0</td>\n",
              "      <td>operational</td>\n",
              "      <td>Paris</td>\n",
              "      <td>paris-raymondlosserand-145</td>\n",
              "      <td>STATION</td>\n",
              "      <td>75014</td>\n",
              "      <td>Paris/Raymond Losserand/145</td>\n",
              "      <td>operational</td>\n",
              "      <td>0</td>\n",
              "      <td>station</td>\n",
              "      <td>2018</td>\n",
              "      <td>4</td>\n",
              "      <td>6</td>\n",
              "      <td>7</td>\n",
              "      <td>24</td>\n",
              "    </tr>\n",
              "    <tr>\n",
              "      <th>2</th>\n",
              "      <td>2 Avenue John Fitzgerald Kennedy</td>\n",
              "      <td>3</td>\n",
              "      <td>0</td>\n",
              "      <td>2</td>\n",
              "      <td>0</td>\n",
              "      <td>operational</td>\n",
              "      <td>Le Bourget</td>\n",
              "      <td>lebourget-johnfitzgeraldkennedy-2</td>\n",
              "      <td>STATION</td>\n",
              "      <td>93350</td>\n",
              "      <td>Le Bourget/John Fitzgerald Kennedy/2</td>\n",
              "      <td>operational</td>\n",
              "      <td>1</td>\n",
              "      <td>station</td>\n",
              "      <td>2018</td>\n",
              "      <td>4</td>\n",
              "      <td>3</td>\n",
              "      <td>20</td>\n",
              "      <td>14</td>\n",
              "    </tr>\n",
              "    <tr>\n",
              "      <th>3</th>\n",
              "      <td>51 Rue EugÃ¨ne OudinÃ©</td>\n",
              "      <td>3</td>\n",
              "      <td>1</td>\n",
              "      <td>0</td>\n",
              "      <td>1</td>\n",
              "      <td>operational</td>\n",
              "      <td>Paris</td>\n",
              "      <td>paris-eugeneoudine-51</td>\n",
              "      <td>STATION</td>\n",
              "      <td>75013</td>\n",
              "      <td>Paris/EugÃ¨ne OudinÃ©/51</td>\n",
              "      <td>operational</td>\n",
              "      <td>2</td>\n",
              "      <td>station</td>\n",
              "      <td>2018</td>\n",
              "      <td>4</td>\n",
              "      <td>4</td>\n",
              "      <td>4</td>\n",
              "      <td>37</td>\n",
              "    </tr>\n",
              "    <tr>\n",
              "      <th>4</th>\n",
              "      <td>6 avenue de la Porte de Champerret</td>\n",
              "      <td>3</td>\n",
              "      <td>0</td>\n",
              "      <td>0</td>\n",
              "      <td>0</td>\n",
              "      <td>nonexistent</td>\n",
              "      <td>Paris</td>\n",
              "      <td>paris-portedechamperret-6</td>\n",
              "      <td>PARKING</td>\n",
              "      <td>75017</td>\n",
              "      <td>Paris/Porte de Champerret/6</td>\n",
              "      <td>operational</td>\n",
              "      <td>3</td>\n",
              "      <td>station</td>\n",
              "      <td>2018</td>\n",
              "      <td>4</td>\n",
              "      <td>8</td>\n",
              "      <td>17</td>\n",
              "      <td>23</td>\n",
              "    </tr>\n",
              "  </tbody>\n",
              "</table>\n",
              "</div>"
            ],
            "text/plain": [
              "                              Address  Bluecar counter  ...  hour  minute\n",
              "0                 2 Avenue de Suffren                0  ...    11      43\n",
              "1           145 Rue Raymond Losserand                6  ...     7      24\n",
              "2    2 Avenue John Fitzgerald Kennedy                3  ...    20      14\n",
              "3              51 Rue EugÃ¨ne OudinÃ©                3  ...     4      37\n",
              "4  6 avenue de la Porte de Champerret                3  ...    17      23\n",
              "\n",
              "[5 rows x 19 columns]"
            ]
          },
          "metadata": {
            "tags": []
          },
          "execution_count": 10
        }
      ]
    },
    {
      "cell_type": "markdown",
      "metadata": {
        "id": "CBAKzBwSwkQ9"
      },
      "source": [
        "# Uniformity of the data"
      ]
    },
    {
      "cell_type": "code",
      "metadata": {
        "colab": {
          "base_uri": "https://localhost:8080/",
          "height": 296
        },
        "id": "OSswtBdjxZRU",
        "outputId": "55989d72-3945-4886-861b-bc81fedbff62"
      },
      "source": [
        "# Procedure 1:\n",
        "# Data Cleaning Action: Converting column names to lowercase characters.\n",
        "# Explanation: This is to allow for a uniform columns in the dataframe.\n",
        "#\n",
        "df.columns = df.columns.str.rstrip().str.lower()\n",
        "df.head(3)"
      ],
      "execution_count": null,
      "outputs": [
        {
          "output_type": "execute_result",
          "data": {
            "text/html": [
              "<div>\n",
              "<style scoped>\n",
              "    .dataframe tbody tr th:only-of-type {\n",
              "        vertical-align: middle;\n",
              "    }\n",
              "\n",
              "    .dataframe tbody tr th {\n",
              "        vertical-align: top;\n",
              "    }\n",
              "\n",
              "    .dataframe thead th {\n",
              "        text-align: right;\n",
              "    }\n",
              "</style>\n",
              "<table border=\"1\" class=\"dataframe\">\n",
              "  <thead>\n",
              "    <tr style=\"text-align: right;\">\n",
              "      <th></th>\n",
              "      <th>address</th>\n",
              "      <th>bluecar counter</th>\n",
              "      <th>utilib counter</th>\n",
              "      <th>utilib 1.4 counter</th>\n",
              "      <th>charge slots</th>\n",
              "      <th>charging status</th>\n",
              "      <th>city</th>\n",
              "      <th>id</th>\n",
              "      <th>kind</th>\n",
              "      <th>postal code</th>\n",
              "      <th>public name</th>\n",
              "      <th>rental status</th>\n",
              "      <th>slots</th>\n",
              "      <th>station type</th>\n",
              "      <th>year</th>\n",
              "      <th>month</th>\n",
              "      <th>day</th>\n",
              "      <th>hour</th>\n",
              "      <th>minute</th>\n",
              "    </tr>\n",
              "  </thead>\n",
              "  <tbody>\n",
              "    <tr>\n",
              "      <th>0</th>\n",
              "      <td>2 Avenue de Suffren</td>\n",
              "      <td>0</td>\n",
              "      <td>0</td>\n",
              "      <td>0</td>\n",
              "      <td>0</td>\n",
              "      <td>nonexistent</td>\n",
              "      <td>Paris</td>\n",
              "      <td>paris-suffren-2</td>\n",
              "      <td>STATION</td>\n",
              "      <td>75015</td>\n",
              "      <td>Paris/Suffren/2</td>\n",
              "      <td>operational</td>\n",
              "      <td>2</td>\n",
              "      <td>station</td>\n",
              "      <td>2018</td>\n",
              "      <td>4</td>\n",
              "      <td>8</td>\n",
              "      <td>11</td>\n",
              "      <td>43</td>\n",
              "    </tr>\n",
              "    <tr>\n",
              "      <th>1</th>\n",
              "      <td>145 Rue Raymond Losserand</td>\n",
              "      <td>6</td>\n",
              "      <td>0</td>\n",
              "      <td>0</td>\n",
              "      <td>0</td>\n",
              "      <td>operational</td>\n",
              "      <td>Paris</td>\n",
              "      <td>paris-raymondlosserand-145</td>\n",
              "      <td>STATION</td>\n",
              "      <td>75014</td>\n",
              "      <td>Paris/Raymond Losserand/145</td>\n",
              "      <td>operational</td>\n",
              "      <td>0</td>\n",
              "      <td>station</td>\n",
              "      <td>2018</td>\n",
              "      <td>4</td>\n",
              "      <td>6</td>\n",
              "      <td>7</td>\n",
              "      <td>24</td>\n",
              "    </tr>\n",
              "    <tr>\n",
              "      <th>2</th>\n",
              "      <td>2 Avenue John Fitzgerald Kennedy</td>\n",
              "      <td>3</td>\n",
              "      <td>0</td>\n",
              "      <td>2</td>\n",
              "      <td>0</td>\n",
              "      <td>operational</td>\n",
              "      <td>Le Bourget</td>\n",
              "      <td>lebourget-johnfitzgeraldkennedy-2</td>\n",
              "      <td>STATION</td>\n",
              "      <td>93350</td>\n",
              "      <td>Le Bourget/John Fitzgerald Kennedy/2</td>\n",
              "      <td>operational</td>\n",
              "      <td>1</td>\n",
              "      <td>station</td>\n",
              "      <td>2018</td>\n",
              "      <td>4</td>\n",
              "      <td>3</td>\n",
              "      <td>20</td>\n",
              "      <td>14</td>\n",
              "    </tr>\n",
              "  </tbody>\n",
              "</table>\n",
              "</div>"
            ],
            "text/plain": [
              "                            address  bluecar counter  ...  hour  minute\n",
              "0               2 Avenue de Suffren                0  ...    11      43\n",
              "1         145 Rue Raymond Losserand                6  ...     7      24\n",
              "2  2 Avenue John Fitzgerald Kennedy                3  ...    20      14\n",
              "\n",
              "[3 rows x 19 columns]"
            ]
          },
          "metadata": {
            "tags": []
          },
          "execution_count": 11
        }
      ]
    },
    {
      "cell_type": "code",
      "metadata": {
        "colab": {
          "base_uri": "https://localhost:8080/",
          "height": 180
        },
        "id": "KQyCxK940Pmo",
        "outputId": "cba19f32-ec92-42bb-cd77-ae466ab5ffdd"
      },
      "source": [
        "df.columns = df.columns.str.replace(\" \", \"_\", regex=True)\n",
        "df.head(2)"
      ],
      "execution_count": null,
      "outputs": [
        {
          "output_type": "execute_result",
          "data": {
            "text/html": [
              "<div>\n",
              "<style scoped>\n",
              "    .dataframe tbody tr th:only-of-type {\n",
              "        vertical-align: middle;\n",
              "    }\n",
              "\n",
              "    .dataframe tbody tr th {\n",
              "        vertical-align: top;\n",
              "    }\n",
              "\n",
              "    .dataframe thead th {\n",
              "        text-align: right;\n",
              "    }\n",
              "</style>\n",
              "<table border=\"1\" class=\"dataframe\">\n",
              "  <thead>\n",
              "    <tr style=\"text-align: right;\">\n",
              "      <th></th>\n",
              "      <th>address</th>\n",
              "      <th>bluecar_counter</th>\n",
              "      <th>utilib_counter</th>\n",
              "      <th>utilib_1.4_counter</th>\n",
              "      <th>charge_slots</th>\n",
              "      <th>charging_status</th>\n",
              "      <th>city</th>\n",
              "      <th>id</th>\n",
              "      <th>kind</th>\n",
              "      <th>postal_code</th>\n",
              "      <th>public_name</th>\n",
              "      <th>rental_status</th>\n",
              "      <th>slots</th>\n",
              "      <th>station_type</th>\n",
              "      <th>year</th>\n",
              "      <th>month</th>\n",
              "      <th>day</th>\n",
              "      <th>hour</th>\n",
              "      <th>minute</th>\n",
              "    </tr>\n",
              "  </thead>\n",
              "  <tbody>\n",
              "    <tr>\n",
              "      <th>0</th>\n",
              "      <td>2 Avenue de Suffren</td>\n",
              "      <td>0</td>\n",
              "      <td>0</td>\n",
              "      <td>0</td>\n",
              "      <td>0</td>\n",
              "      <td>nonexistent</td>\n",
              "      <td>Paris</td>\n",
              "      <td>paris-suffren-2</td>\n",
              "      <td>STATION</td>\n",
              "      <td>75015</td>\n",
              "      <td>Paris/Suffren/2</td>\n",
              "      <td>operational</td>\n",
              "      <td>2</td>\n",
              "      <td>station</td>\n",
              "      <td>2018</td>\n",
              "      <td>4</td>\n",
              "      <td>8</td>\n",
              "      <td>11</td>\n",
              "      <td>43</td>\n",
              "    </tr>\n",
              "    <tr>\n",
              "      <th>1</th>\n",
              "      <td>145 Rue Raymond Losserand</td>\n",
              "      <td>6</td>\n",
              "      <td>0</td>\n",
              "      <td>0</td>\n",
              "      <td>0</td>\n",
              "      <td>operational</td>\n",
              "      <td>Paris</td>\n",
              "      <td>paris-raymondlosserand-145</td>\n",
              "      <td>STATION</td>\n",
              "      <td>75014</td>\n",
              "      <td>Paris/Raymond Losserand/145</td>\n",
              "      <td>operational</td>\n",
              "      <td>0</td>\n",
              "      <td>station</td>\n",
              "      <td>2018</td>\n",
              "      <td>4</td>\n",
              "      <td>6</td>\n",
              "      <td>7</td>\n",
              "      <td>24</td>\n",
              "    </tr>\n",
              "  </tbody>\n",
              "</table>\n",
              "</div>"
            ],
            "text/plain": [
              "                     address  bluecar_counter  ...  hour  minute\n",
              "0        2 Avenue de Suffren                0  ...    11      43\n",
              "1  145 Rue Raymond Losserand                6  ...     7      24\n",
              "\n",
              "[2 rows x 19 columns]"
            ]
          },
          "metadata": {
            "tags": []
          },
          "execution_count": 13
        }
      ]
    },
    {
      "cell_type": "code",
      "metadata": {
        "id": "GBCZg5fmqtdw"
      },
      "source": [
        ""
      ],
      "execution_count": null,
      "outputs": []
    },
    {
      "cell_type": "code",
      "metadata": {
        "colab": {
          "base_uri": "https://localhost:8080/",
          "height": 297
        },
        "id": "ui5H-K_W9SOk",
        "outputId": "1582b4ef-8c83-41b8-855a-2fd0729d99d2"
      },
      "source": [
        "#visual inspection of the spread of the data for any outliers\n",
        "import matplotlib.pyplot as plt \n",
        "% matplotlib inline \n",
        "import seaborn as sns\n",
        "sns.boxplot(y='bluecar_counter', x='day', data=df, width=0.5, palette=\"colorblind\")"
      ],
      "execution_count": null,
      "outputs": [
        {
          "output_type": "execute_result",
          "data": {
            "text/plain": [
              "<matplotlib.axes._subplots.AxesSubplot at 0x7fcaac3a85d0>"
            ]
          },
          "metadata": {
            "tags": []
          },
          "execution_count": 14
        },
        {
          "output_type": "display_data",
          "data": {
            "image/png": "[encoded data removed]",
            "text/plain": [
              "<Figure size 432x288 with 1 Axes>"
            ]
          },
          "metadata": {
            "tags": [],
            "needs_background": "light"
          }
        }
      ]
    },
    {
      "cell_type": "markdown",
      "metadata": {
        "id": "-m742Eg9FpzQ"
      },
      "source": [
        "## Exporting our clean csv file"
      ]
    },
    {
      "cell_type": "code",
      "metadata": {
        "id": "8h5cbNnDGKuO"
      },
      "source": [
        "df.to_csv(\"autolib_clean.csv\")"
      ],
      "execution_count": null,
      "outputs": []
    },
    {
      "cell_type": "markdown",
      "metadata": {
        "id": "TDjvDb4Cc9RB"
      },
      "source": [
        "## Answering Questions\n",
        " \n",
        "\n"
      ]
    },
    {
      "cell_type": "markdown",
      "metadata": {
        "id": "gEqQYiS9or1N"
      },
      "source": [
        "Blue cars"
      ]
    },
    {
      "cell_type": "code",
      "metadata": {
        "id": "OSl3s7G6FZOW",
        "colab": {
          "base_uri": "https://localhost:8080/"
        },
        "outputId": "8d4519cb-e71e-484d-c0bb-60f0e55880c2"
      },
      "source": [
        "# Challenge 1\n",
        "# Finding the most popular hour for returning cars?\n",
        "#\n",
        "df = pd.read_csv(\"/content/autolib_clean.csv\")\n",
        "df1 = df[[\"bluecar_counter\",\"day\", \"hour\", \"minute\"]]\n",
        "df2= df1[df1[\"bluecar_counter\"] == 0]\n",
        "df2['hour'].max()"
      ],
      "execution_count": null,
      "outputs": [
        {
          "output_type": "execute_result",
          "data": {
            "text/plain": [
              "23"
            ]
          },
          "metadata": {
            "tags": []
          },
          "execution_count": 16
        }
      ]
    },
    {
      "cell_type": "code",
      "metadata": {
        "colab": {
          "base_uri": "https://localhost:8080/"
        },
        "id": "JWERroztdcCu",
        "outputId": "27362647-765e-4024-f0f7-125a20bb7a1c"
      },
      "source": [
        "# Challenge 2\n",
        "#What station is the most popular?\n",
        "#\n",
        "df_pop= df.groupby(['public_name'])['bluecar_counter'].max().sort_values(ascending=False)\n",
        "\n",
        "df_pop.head(1)"
      ],
      "execution_count": null,
      "outputs": [
        {
          "output_type": "execute_result",
          "data": {
            "text/plain": [
              "public_name\n",
              "Sceaux/Franklin Roosevelt/60    7\n",
              "Name: bluecar_counter, dtype: int64"
            ]
          },
          "metadata": {
            "tags": []
          },
          "execution_count": 17
        }
      ]
    },
    {
      "cell_type": "code",
      "metadata": {
        "colab": {
          "base_uri": "https://localhost:8080/",
          "height": 78
        },
        "id": "E1DN64iul5jq",
        "outputId": "551f8917-f669-492c-e172-c48a6ee5d5eb"
      },
      "source": [
        "# Challenge 3\n",
        "# What postal code is the most popular for picking up Blue cars?\n",
        "df_station = df[['address', 'postal_code','bluecar_counter']]\n",
        "df_postal = df_station.sort_values('bluecar_counter', ascending=False)\n",
        "df_postal.head(1)"
      ],
      "execution_count": null,
      "outputs": [
        {
          "output_type": "execute_result",
          "data": {
            "text/html": [
              "<div>\n",
              "<style scoped>\n",
              "    .dataframe tbody tr th:only-of-type {\n",
              "        vertical-align: middle;\n",
              "    }\n",
              "\n",
              "    .dataframe tbody tr th {\n",
              "        vertical-align: top;\n",
              "    }\n",
              "\n",
              "    .dataframe thead th {\n",
              "        text-align: right;\n",
              "    }\n",
              "</style>\n",
              "<table border=\"1\" class=\"dataframe\">\n",
              "  <thead>\n",
              "    <tr style=\"text-align: right;\">\n",
              "      <th></th>\n",
              "      <th>address</th>\n",
              "      <th>postal_code</th>\n",
              "      <th>bluecar_counter</th>\n",
              "    </tr>\n",
              "  </thead>\n",
              "  <tbody>\n",
              "    <tr>\n",
              "      <th>1985</th>\n",
              "      <td>99 rue Charles-de-Gaulle</td>\n",
              "      <td>91330</td>\n",
              "      <td>7</td>\n",
              "    </tr>\n",
              "  </tbody>\n",
              "</table>\n",
              "</div>"
            ],
            "text/plain": [
              "                       address  postal_code  bluecar_counter\n",
              "1985  99 rue Charles-de-Gaulle        91330                7"
            ]
          },
          "metadata": {
            "tags": []
          },
          "execution_count": 18
        }
      ]
    },
    {
      "cell_type": "code",
      "metadata": {
        "colab": {
          "base_uri": "https://localhost:8080/",
          "height": 78
        },
        "id": "H9mC-XOhmEtq",
        "outputId": "a9a2cbf2-735e-45bf-952d-7d47a477225c"
      },
      "source": [
        "# Challenge 4\n",
        "# Does the most popular station belong to that postal code?\n",
        "df_station = df[['address','postal_code','bluecar_counter']]\n",
        "df_postal = df_station.sort_values('bluecar_counter', ascending=False)\n",
        "df_postal.head(1)"
      ],
      "execution_count": null,
      "outputs": [
        {
          "output_type": "execute_result",
          "data": {
            "text/html": [
              "<div>\n",
              "<style scoped>\n",
              "    .dataframe tbody tr th:only-of-type {\n",
              "        vertical-align: middle;\n",
              "    }\n",
              "\n",
              "    .dataframe tbody tr th {\n",
              "        vertical-align: top;\n",
              "    }\n",
              "\n",
              "    .dataframe thead th {\n",
              "        text-align: right;\n",
              "    }\n",
              "</style>\n",
              "<table border=\"1\" class=\"dataframe\">\n",
              "  <thead>\n",
              "    <tr style=\"text-align: right;\">\n",
              "      <th></th>\n",
              "      <th>address</th>\n",
              "      <th>postal_code</th>\n",
              "      <th>bluecar_counter</th>\n",
              "    </tr>\n",
              "  </thead>\n",
              "  <tbody>\n",
              "    <tr>\n",
              "      <th>1985</th>\n",
              "      <td>99 rue Charles-de-Gaulle</td>\n",
              "      <td>91330</td>\n",
              "      <td>7</td>\n",
              "    </tr>\n",
              "  </tbody>\n",
              "</table>\n",
              "</div>"
            ],
            "text/plain": [
              "                       address  postal_code  bluecar_counter\n",
              "1985  99 rue Charles-de-Gaulle        91330                7"
            ]
          },
          "metadata": {
            "tags": []
          },
          "execution_count": 19
        }
      ]
    },
    {
      "cell_type": "markdown",
      "metadata": {
        "id": "8h4AUeeupDKE"
      },
      "source": [
        " Utilib 1.4\n",
        "\n"
      ]
    },
    {
      "cell_type": "code",
      "metadata": {
        "id": "mTNp_gw1pS5k",
        "colab": {
          "base_uri": "https://localhost:8080/"
        },
        "outputId": "151663ef-70cd-415c-a1c1-25bd3f9fc6ef"
      },
      "source": [
        "# Challenge 1\n",
        "# Finding the most popular hour for returning cars?\n",
        "#\n",
        "df = pd.read_csv(\"/content/autolib_clean.csv\")\n",
        "df1 = df[[\"utilib_1.4_counter\",\"day\", \"hour\", \"minute\"]]\n",
        "df2= df1[df1[\"utilib_1.4_counter\"] == 0]\n",
        "df2['hour'].max()\n"
      ],
      "execution_count": null,
      "outputs": [
        {
          "output_type": "execute_result",
          "data": {
            "text/plain": [
              "23"
            ]
          },
          "metadata": {
            "tags": []
          },
          "execution_count": 20
        }
      ]
    },
    {
      "cell_type": "code",
      "metadata": {
        "colab": {
          "base_uri": "https://localhost:8080/"
        },
        "id": "HCb1adyPuYNV",
        "outputId": "6783e491-cbc7-4a8f-938a-bcf3fd2e92ca"
      },
      "source": [
        "# Challenge 2\n",
        "#What station is the most popular?\n",
        "#\n",
        "df_pop= df.groupby(['public_name'])['utilib_1.4_counter'].max().sort_values(ascending=False)\n",
        "\n",
        "df_pop.head(1)"
      ],
      "execution_count": null,
      "outputs": [
        {
          "output_type": "execute_result",
          "data": {
            "text/plain": [
              "public_name\n",
              "SÃ¨vres/Grande Rue/123    3\n",
              "Name: utilib_1.4_counter, dtype: int64"
            ]
          },
          "metadata": {
            "tags": []
          },
          "execution_count": 21
        }
      ]
    },
    {
      "cell_type": "code",
      "metadata": {
        "colab": {
          "base_uri": "https://localhost:8080/",
          "height": 78
        },
        "id": "dBuIOG4susNF",
        "outputId": "5abe8e9e-dce7-46c6-e7b8-fcd1112b5da9"
      },
      "source": [
        "# Challenge 3\n",
        "# What postal code is the most popular for picking up Blue cars?\n",
        "df_station = df[['public_name', 'postal_code','utilib_1.4_counter']]\n",
        "df_postal = df_station.sort_values('utilib_1.4_counter', ascending=False)\n",
        "df_postal.head(1)"
      ],
      "execution_count": null,
      "outputs": [
        {
          "output_type": "execute_result",
          "data": {
            "text/html": [
              "<div>\n",
              "<style scoped>\n",
              "    .dataframe tbody tr th:only-of-type {\n",
              "        vertical-align: middle;\n",
              "    }\n",
              "\n",
              "    .dataframe tbody tr th {\n",
              "        vertical-align: top;\n",
              "    }\n",
              "\n",
              "    .dataframe thead th {\n",
              "        text-align: right;\n",
              "    }\n",
              "</style>\n",
              "<table border=\"1\" class=\"dataframe\">\n",
              "  <thead>\n",
              "    <tr style=\"text-align: right;\">\n",
              "      <th></th>\n",
              "      <th>public_name</th>\n",
              "      <th>postal_code</th>\n",
              "      <th>utilib_1.4_counter</th>\n",
              "    </tr>\n",
              "  </thead>\n",
              "  <tbody>\n",
              "    <tr>\n",
              "      <th>2731</th>\n",
              "      <td>SÃ¨vres/Grande Rue/123</td>\n",
              "      <td>92310</td>\n",
              "      <td>3</td>\n",
              "    </tr>\n",
              "  </tbody>\n",
              "</table>\n",
              "</div>"
            ],
            "text/plain": [
              "                 public_name  postal_code  utilib_1.4_counter\n",
              "2731  SÃ¨vres/Grande Rue/123        92310                   3"
            ]
          },
          "metadata": {
            "tags": []
          },
          "execution_count": 22
        }
      ]
    },
    {
      "cell_type": "code",
      "metadata": {
        "colab": {
          "base_uri": "https://localhost:8080/",
          "height": 78
        },
        "id": "cN5ACgJEvHJd",
        "outputId": "0dc98dad-2490-4b65-c31a-95d22398fb25"
      },
      "source": [
        "# Challenge 4\n",
        "# Does the most popular station belong to that postal code?\n",
        "df_station = df[['public_name','postal_code','utilib_1.4_counter']]\n",
        "df_postal = df_station.sort_values('utilib_1.4_counter', ascending=False)\n",
        "df_postal.head(1)"
      ],
      "execution_count": null,
      "outputs": [
        {
          "output_type": "execute_result",
          "data": {
            "text/html": [
              "<div>\n",
              "<style scoped>\n",
              "    .dataframe tbody tr th:only-of-type {\n",
              "        vertical-align: middle;\n",
              "    }\n",
              "\n",
              "    .dataframe tbody tr th {\n",
              "        vertical-align: top;\n",
              "    }\n",
              "\n",
              "    .dataframe thead th {\n",
              "        text-align: right;\n",
              "    }\n",
              "</style>\n",
              "<table border=\"1\" class=\"dataframe\">\n",
              "  <thead>\n",
              "    <tr style=\"text-align: right;\">\n",
              "      <th></th>\n",
              "      <th>public_name</th>\n",
              "      <th>postal_code</th>\n",
              "      <th>utilib_1.4_counter</th>\n",
              "    </tr>\n",
              "  </thead>\n",
              "  <tbody>\n",
              "    <tr>\n",
              "      <th>2731</th>\n",
              "      <td>SÃ¨vres/Grande Rue/123</td>\n",
              "      <td>92310</td>\n",
              "      <td>3</td>\n",
              "    </tr>\n",
              "  </tbody>\n",
              "</table>\n",
              "</div>"
            ],
            "text/plain": [
              "                 public_name  postal_code  utilib_1.4_counter\n",
              "2731  SÃ¨vres/Grande Rue/123        92310                   3"
            ]
          },
          "metadata": {
            "tags": []
          },
          "execution_count": 23
        }
      ]
    },
    {
      "cell_type": "markdown",
      "metadata": {
        "id": "kPzW_nEQQPSB"
      },
      "source": [
        "# utilib_counter\n"
      ]
    },
    {
      "cell_type": "code",
      "metadata": {
        "colab": {
          "base_uri": "https://localhost:8080/"
        },
        "id": "RFnfgJyhQm4M",
        "outputId": "0c6851e3-c4dd-49b0-a27a-4fba562aac38"
      },
      "source": [
        "# Challenge 1\n",
        "# Finding the most popular hour for returning cars?\n",
        "#\n",
        "df = pd.read_csv(\"/content/autolib_clean.csv\")\n",
        "df1 = df[[\"utilib_counter\",\"day\", \"hour\", \"minute\"]]\n",
        "df2= df1[df1[\"utilib_counter\"] == 0]\n",
        "df2['hour'].max()"
      ],
      "execution_count": null,
      "outputs": [
        {
          "output_type": "execute_result",
          "data": {
            "text/plain": [
              "23"
            ]
          },
          "metadata": {
            "tags": []
          },
          "execution_count": 29
        }
      ]
    },
    {
      "cell_type": "code",
      "metadata": {
        "colab": {
          "base_uri": "https://localhost:8080/"
        },
        "id": "dYeVzU19SVQa",
        "outputId": "f9eff887-a503-4ece-ea41-665ca88be126"
      },
      "source": [
        "# Challenge 2\n",
        "#What station is the most popular?\n",
        "#\n",
        "df_pop= df.groupby(['public_name'])['utilib_counter'].max().sort_values(ascending=False)\n",
        "df_pop.head(1)\n"
      ],
      "execution_count": null,
      "outputs": [
        {
          "output_type": "execute_result",
          "data": {
            "text/plain": [
              "public_name\n",
              "Paris/Suffren/161    2\n",
              "Name: utilib_counter, dtype: int64"
            ]
          },
          "metadata": {
            "tags": []
          },
          "execution_count": 35
        }
      ]
    },
    {
      "cell_type": "code",
      "metadata": {
        "colab": {
          "base_uri": "https://localhost:8080/",
          "height": 78
        },
        "id": "ELuYVchdS7dN",
        "outputId": "60f7bc9b-667f-4e81-c400-b6e495f5910c"
      },
      "source": [
        "# Challenge 3\n",
        "# What postal code is the most popular for picking up Blue cars?\n",
        "df_station = df[['public_name', 'postal_code','utilib_counter']]\n",
        "df_postal = df_station.sort_values('utilib_counter', ascending=False)\n",
        "df_postal.head(1)"
      ],
      "execution_count": null,
      "outputs": [
        {
          "output_type": "execute_result",
          "data": {
            "text/html": [
              "<div>\n",
              "<style scoped>\n",
              "    .dataframe tbody tr th:only-of-type {\n",
              "        vertical-align: middle;\n",
              "    }\n",
              "\n",
              "    .dataframe tbody tr th {\n",
              "        vertical-align: top;\n",
              "    }\n",
              "\n",
              "    .dataframe thead th {\n",
              "        text-align: right;\n",
              "    }\n",
              "</style>\n",
              "<table border=\"1\" class=\"dataframe\">\n",
              "  <thead>\n",
              "    <tr style=\"text-align: right;\">\n",
              "      <th></th>\n",
              "      <th>public_name</th>\n",
              "      <th>postal_code</th>\n",
              "      <th>utilib_counter</th>\n",
              "    </tr>\n",
              "  </thead>\n",
              "  <tbody>\n",
              "    <tr>\n",
              "      <th>3329</th>\n",
              "      <td>Paris/Chateaubriand/19</td>\n",
              "      <td>75008</td>\n",
              "      <td>2</td>\n",
              "    </tr>\n",
              "  </tbody>\n",
              "</table>\n",
              "</div>"
            ],
            "text/plain": [
              "                 public_name  postal_code  utilib_counter\n",
              "3329  Paris/Chateaubriand/19        75008               2"
            ]
          },
          "metadata": {
            "tags": []
          },
          "execution_count": 36
        }
      ]
    },
    {
      "cell_type": "code",
      "metadata": {
        "colab": {
          "base_uri": "https://localhost:8080/",
          "height": 78
        },
        "id": "wYGeE2ZQTnDF",
        "outputId": "0bd16b8f-16b3-4342-9ad3-371303dd2023"
      },
      "source": [
        "# Challenge 4\n",
        "# Does the most popular station belong to that postal code?\n",
        "df_station = df[['public_name','postal_code','utilib_counter']]\n",
        "df_postal = df_station.sort_values('utilib_counter', ascending=False)\n",
        "df_postal.head(1)"
      ],
      "execution_count": null,
      "outputs": [
        {
          "output_type": "execute_result",
          "data": {
            "text/html": [
              "<div>\n",
              "<style scoped>\n",
              "    .dataframe tbody tr th:only-of-type {\n",
              "        vertical-align: middle;\n",
              "    }\n",
              "\n",
              "    .dataframe tbody tr th {\n",
              "        vertical-align: top;\n",
              "    }\n",
              "\n",
              "    .dataframe thead th {\n",
              "        text-align: right;\n",
              "    }\n",
              "</style>\n",
              "<table border=\"1\" class=\"dataframe\">\n",
              "  <thead>\n",
              "    <tr style=\"text-align: right;\">\n",
              "      <th></th>\n",
              "      <th>public_name</th>\n",
              "      <th>postal_code</th>\n",
              "      <th>utilib_counter</th>\n",
              "    </tr>\n",
              "  </thead>\n",
              "  <tbody>\n",
              "    <tr>\n",
              "      <th>3329</th>\n",
              "      <td>Paris/Chateaubriand/19</td>\n",
              "      <td>75008</td>\n",
              "      <td>2</td>\n",
              "    </tr>\n",
              "  </tbody>\n",
              "</table>\n",
              "</div>"
            ],
            "text/plain": [
              "                 public_name  postal_code  utilib_counter\n",
              "3329  Paris/Chateaubriand/19        75008               2"
            ]
          },
          "metadata": {
            "tags": []
          },
          "execution_count": 37
        }
      ]
    }
  ]
}